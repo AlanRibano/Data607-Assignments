{
  "cells": [
    {
      "cell_type": "markdown",
      "metadata": {
        "id": "9CMo_xvhmp_b"
      },
      "source": [
        "# Data 607  &mdash; Assignment 3"
      ]
    },
    {
      "cell_type": "markdown",
      "metadata": {
        "id": "sJN6OHzImwBa"
      },
      "source": [
        "## Instructions\n",
        "\n",
        "**Submit a .ipynb file and a Colab link to the your solutions to the appropriate D2L dropbox by 23:59 on Sunday, April 9th. For the Colab link, make sure that the permission is set to \"Anyone on the internet with this link can view\".**"
      ]
    },
    {
      "cell_type": "code",
      "execution_count": null,
      "metadata": {},
      "outputs": [],
      "source": []
    },
    {
      "cell_type": "markdown",
      "metadata": {
        "id": "-dzePAxDl3k9"
      },
      "source": [
        "## 1. Can regularizing the linear model help?\n",
        "\n",
        "In this exercise, we attempt to predict life expectance. Please find the data from D2L."
      ]
    },
    {
      "cell_type": "markdown",
      "metadata": {
        "id": "o8r6EfTUF0rX"
      },
      "source": [
        "1. Implement the following:\n",
        "   For `i` from 1 to 10000:\n",
        "\n",
        "   - Construct a boostrap replicate `(X_tr, y_tr)` of the dataset `(X, y)`.\n",
        "   - Form the complementary testing set `(X_te, y_te)` consisting of all elements of the original dataset that don't belong the bootstrap replicate.\n",
        "   - Standardize `X_tr` and `X_te` using `StandardScaler`.\n",
        "   - Fit\n",
        "     1. A linear regression model, and\n",
        "     2. A ridge regression model with parameter $\\alpha=1.0$\n",
        "\n",
        "     to the data. Record the the MSE on `(X_te, y_te)`.\n",
        "\n",
        "2. On the same axes, plot the distributions (histograms) of the test MSES for the linear regression model and for the ridge regression model. Compute the means and standard deviations of these distributions. Indicate the means on your plot.\n",
        "\n",
        "3. Use an appropriate statistical test to test the null hypothesis *the means of the two MSE disributions are the same*. Summarize: Is ridge regression an improvement on linear regression for this dataset?\n"
      ]
    },
    {
      "cell_type": "markdown",
      "metadata": {
        "id": "q8-zuh2xF3uJ"
      },
      "source": [
        "## 2. Feature engineering for time series forecasting\n",
        "\n",
        "The goal of this exercise is to forecast demand of Australian wine. We use a dataset containing monthly sales figures between January, 1980 and July, 1995. For our convenience, I'm hosting a copy of the data on my GiHub page:"
      ]
    },
    {
      "cell_type": "code",
      "execution_count": null,
      "metadata": {
        "colab": {
          "base_uri": "https://localhost:8080/",
          "height": 423
        },
        "id": "pNZLgZ6gJAF5",
        "outputId": "1b6ad451-c1aa-4b2e-b0af-12beba55265d"
      },
      "outputs": [
        {
          "data": {
            "text/html": [
              "\n",
              "  <div id=\"df-4d93aa63-cc95-46c9-83e5-f4f4e366f385\">\n",
              "    <div class=\"colab-df-container\">\n",
              "      <div>\n",
              "<style scoped>\n",
              "    .dataframe tbody tr th:only-of-type {\n",
              "        vertical-align: middle;\n",
              "    }\n",
              "\n",
              "    .dataframe tbody tr th {\n",
              "        vertical-align: top;\n",
              "    }\n",
              "\n",
              "    .dataframe thead th {\n",
              "        text-align: right;\n",
              "    }\n",
              "</style>\n",
              "<table border=\"1\" class=\"dataframe\">\n",
              "  <thead>\n",
              "    <tr style=\"text-align: right;\">\n",
              "      <th></th>\n",
              "      <th>YearMonth</th>\n",
              "      <th>Red</th>\n",
              "      <th>Sparkling</th>\n",
              "      <th>Sweetwhite</th>\n",
              "    </tr>\n",
              "  </thead>\n",
              "  <tbody>\n",
              "    <tr>\n",
              "      <th>0</th>\n",
              "      <td>1980-01</td>\n",
              "      <td>464</td>\n",
              "      <td>1686</td>\n",
              "      <td>85</td>\n",
              "    </tr>\n",
              "    <tr>\n",
              "      <th>1</th>\n",
              "      <td>1980-02</td>\n",
              "      <td>675</td>\n",
              "      <td>1591</td>\n",
              "      <td>89</td>\n",
              "    </tr>\n",
              "    <tr>\n",
              "      <th>2</th>\n",
              "      <td>1980-03</td>\n",
              "      <td>703</td>\n",
              "      <td>2304</td>\n",
              "      <td>109</td>\n",
              "    </tr>\n",
              "    <tr>\n",
              "      <th>3</th>\n",
              "      <td>1980-04</td>\n",
              "      <td>887</td>\n",
              "      <td>1712</td>\n",
              "      <td>95</td>\n",
              "    </tr>\n",
              "    <tr>\n",
              "      <th>4</th>\n",
              "      <td>1980-05</td>\n",
              "      <td>1139</td>\n",
              "      <td>1471</td>\n",
              "      <td>91</td>\n",
              "    </tr>\n",
              "    <tr>\n",
              "      <th>...</th>\n",
              "      <td>...</td>\n",
              "      <td>...</td>\n",
              "      <td>...</td>\n",
              "      <td>...</td>\n",
              "    </tr>\n",
              "    <tr>\n",
              "      <th>182</th>\n",
              "      <td>1995-03</td>\n",
              "      <td>2459</td>\n",
              "      <td>1897</td>\n",
              "      <td>188</td>\n",
              "    </tr>\n",
              "    <tr>\n",
              "      <th>183</th>\n",
              "      <td>1995-04</td>\n",
              "      <td>2618</td>\n",
              "      <td>1862</td>\n",
              "      <td>195</td>\n",
              "    </tr>\n",
              "    <tr>\n",
              "      <th>184</th>\n",
              "      <td>1995-05</td>\n",
              "      <td>2585</td>\n",
              "      <td>1670</td>\n",
              "      <td>189</td>\n",
              "    </tr>\n",
              "    <tr>\n",
              "      <th>185</th>\n",
              "      <td>1995-06</td>\n",
              "      <td>3310</td>\n",
              "      <td>1688</td>\n",
              "      <td>220</td>\n",
              "    </tr>\n",
              "    <tr>\n",
              "      <th>186</th>\n",
              "      <td>1995-07</td>\n",
              "      <td>3923</td>\n",
              "      <td>2031</td>\n",
              "      <td>274</td>\n",
              "    </tr>\n",
              "  </tbody>\n",
              "</table>\n",
              "<p>187 rows × 4 columns</p>\n",
              "</div>\n",
              "      <button class=\"colab-df-convert\" onclick=\"convertToInteractive('df-4d93aa63-cc95-46c9-83e5-f4f4e366f385')\"\n",
              "              title=\"Convert this dataframe to an interactive table.\"\n",
              "              style=\"display:none;\">\n",
              "        \n",
              "  <svg xmlns=\"http://www.w3.org/2000/svg\" height=\"24px\"viewBox=\"0 0 24 24\"\n",
              "       width=\"24px\">\n",
              "    <path d=\"M0 0h24v24H0V0z\" fill=\"none\"/>\n",
              "    <path d=\"M18.56 5.44l.94 2.06.94-2.06 2.06-.94-2.06-.94-.94-2.06-.94 2.06-2.06.94zm-11 1L8.5 8.5l.94-2.06 2.06-.94-2.06-.94L8.5 2.5l-.94 2.06-2.06.94zm10 10l.94 2.06.94-2.06 2.06-.94-2.06-.94-.94-2.06-.94 2.06-2.06.94z\"/><path d=\"M17.41 7.96l-1.37-1.37c-.4-.4-.92-.59-1.43-.59-.52 0-1.04.2-1.43.59L10.3 9.45l-7.72 7.72c-.78.78-.78 2.05 0 2.83L4 21.41c.39.39.9.59 1.41.59.51 0 1.02-.2 1.41-.59l7.78-7.78 2.81-2.81c.8-.78.8-2.07 0-2.86zM5.41 20L4 18.59l7.72-7.72 1.47 1.35L5.41 20z\"/>\n",
              "  </svg>\n",
              "      </button>\n",
              "      \n",
              "  <style>\n",
              "    .colab-df-container {\n",
              "      display:flex;\n",
              "      flex-wrap:wrap;\n",
              "      gap: 12px;\n",
              "    }\n",
              "\n",
              "    .colab-df-convert {\n",
              "      background-color: #E8F0FE;\n",
              "      border: none;\n",
              "      border-radius: 50%;\n",
              "      cursor: pointer;\n",
              "      display: none;\n",
              "      fill: #1967D2;\n",
              "      height: 32px;\n",
              "      padding: 0 0 0 0;\n",
              "      width: 32px;\n",
              "    }\n",
              "\n",
              "    .colab-df-convert:hover {\n",
              "      background-color: #E2EBFA;\n",
              "      box-shadow: 0px 1px 2px rgba(60, 64, 67, 0.3), 0px 1px 3px 1px rgba(60, 64, 67, 0.15);\n",
              "      fill: #174EA6;\n",
              "    }\n",
              "\n",
              "    [theme=dark] .colab-df-convert {\n",
              "      background-color: #3B4455;\n",
              "      fill: #D2E3FC;\n",
              "    }\n",
              "\n",
              "    [theme=dark] .colab-df-convert:hover {\n",
              "      background-color: #434B5C;\n",
              "      box-shadow: 0px 1px 3px 1px rgba(0, 0, 0, 0.15);\n",
              "      filter: drop-shadow(0px 1px 2px rgba(0, 0, 0, 0.3));\n",
              "      fill: #FFFFFF;\n",
              "    }\n",
              "  </style>\n",
              "\n",
              "      <script>\n",
              "        const buttonEl =\n",
              "          document.querySelector('#df-4d93aa63-cc95-46c9-83e5-f4f4e366f385 button.colab-df-convert');\n",
              "        buttonEl.style.display =\n",
              "          google.colab.kernel.accessAllowed ? 'block' : 'none';\n",
              "\n",
              "        async function convertToInteractive(key) {\n",
              "          const element = document.querySelector('#df-4d93aa63-cc95-46c9-83e5-f4f4e366f385');\n",
              "          const dataTable =\n",
              "            await google.colab.kernel.invokeFunction('convertToInteractive',\n",
              "                                                     [key], {});\n",
              "          if (!dataTable) return;\n",
              "\n",
              "          const docLinkHtml = 'Like what you see? Visit the ' +\n",
              "            '<a target=\"_blank\" href=https://colab.research.google.com/notebooks/data_table.ipynb>data table notebook</a>'\n",
              "            + ' to learn more about interactive tables.';\n",
              "          element.innerHTML = '';\n",
              "          dataTable['output_type'] = 'display_data';\n",
              "          await google.colab.output.renderOutput(dataTable, element);\n",
              "          const docLink = document.createElement('div');\n",
              "          docLink.innerHTML = docLinkHtml;\n",
              "          element.appendChild(docLink);\n",
              "        }\n",
              "      </script>\n",
              "    </div>\n",
              "  </div>\n",
              "  "
            ],
            "text/plain": [
              "    YearMonth   Red  Sparkling  Sweetwhite\n",
              "0     1980-01   464       1686          85\n",
              "1     1980-02   675       1591          89\n",
              "2     1980-03   703       2304         109\n",
              "3     1980-04   887       1712          95\n",
              "4     1980-05  1139       1471          91\n",
              "..        ...   ...        ...         ...\n",
              "182   1995-03  2459       1897         188\n",
              "183   1995-04  2618       1862         195\n",
              "184   1995-05  2585       1670         189\n",
              "185   1995-06  3310       1688         220\n",
              "186   1995-07  3923       2031         274\n",
              "\n",
              "[187 rows x 4 columns]"
            ]
          },
          "execution_count": 3,
          "metadata": {},
          "output_type": "execute_result"
        }
      ],
      "source": [
        "import pandas as pd\n",
        "\n",
        "df = pd.read_csv(\"https://gist.githubusercontent.com/mgreenbe/8d37a66d545e132c605d5c79061f42a3/raw/9ee80a5c9f412dc31aab2ed0d59e9430a0ae97c4/australian_wine.csv\")\n",
        "df"
      ]
    },
    {
      "cell_type": "markdown",
      "metadata": {
        "id": "eMEgMK3uJCX0"
      },
      "source": [
        "1. In forecasting problems, it's important to reserve the **most recent** data for testing rather than splitting the data randomly into training and testing subsets. Why?\n",
        "\n",
        "2. Train a linear regression model, predicting **red wine sales** as a function of the **time index**, i.e., the number of months after January, 1980. Train your model on the first 150 observations. Test on the remainder. Report both training and testing MSE. Plot the dataset, overlaid with your forecast. Critique your model.\n",
        "\n",
        "3. Add a column `Year` to the dataset for *years after 1980*. For each month of the year, add a corresponding binary indicator column (consider using `pandas.get_dummies`).  Repeat 2., but regressing red wine sales onto the thirteen new columns (1 year column + 12 month indicator columns) instead of onto the time index. Comment."
      ]
    },
    {
      "cell_type": "markdown",
      "metadata": {
        "id": "D6CNzYkPJJeT"
      },
      "source": []
    }
  ],
  "metadata": {
    "colab": {
      "provenance": []
    },
    "kernelspec": {
      "display_name": "Python 3",
      "name": "python3"
    },
    "language_info": {
      "name": "python"
    }
  },
  "nbformat": 4,
  "nbformat_minor": 0
}
